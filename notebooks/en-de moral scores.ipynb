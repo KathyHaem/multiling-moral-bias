{
 "cells": [
  {
   "cell_type": "code",
   "execution_count": 1,
   "id": "ce0e4f87",
   "metadata": {},
   "outputs": [],
   "source": [
    "import pandas as pd"
   ]
  },
  {
   "cell_type": "code",
   "execution_count": 2,
   "id": "727d5b9f",
   "metadata": {},
   "outputs": [
    {
     "data": {
      "text/plain": [
       "0          -0.167128\n",
       "1          -0.394810\n",
       "2           0.150108\n",
       "3          -0.329838\n",
       "4           0.097872\n",
       "              ...   \n",
       "22480024    0.091661\n",
       "22480025   -0.181931\n",
       "22480026    0.230305\n",
       "22480027   -0.405924\n",
       "22480028   -0.189259\n",
       "Name: en_bert_score, Length: 22480029, dtype: float64"
      ]
     },
     "execution_count": 2,
     "metadata": {},
     "output_type": "execute_result"
    }
   ],
   "source": [
    "scored_de_xlmr = pd.read_csv(\n",
    "    \"./opensubtitles/de-en.tok/de_subspace_qa_output/xlmr_nliv2_5-langs_OpenSubtitles.de-en.de.tok.csv\")\n",
    "scored_de_xlmr.rename(columns={\"Action\": \"de\", \"Score\": \"de_xlmr_score\"}, inplace=True)\n",
    "\n",
    "scored_de_gbert = pd.read_csv(\n",
    "    \"./opensubtitles/de-en.tok/de_subspace_qa_output/gbert-base_nliv2_de_OpenSubtitles.de-en.de.tok.csv\")[\"Score\"]\n",
    "scored_de_gbert.rename(\"de_gbert_score\", inplace=True)\n",
    "\n",
    "\n",
    "scored_en_xlmr = pd.read_csv(\n",
    "    \"./opensubtitles/de-en.tok/en_subspace_qa_output/xlmr_nliv2_5-langs_OpenSubtitles.de-en.en.tok.csv\")\n",
    "scored_en_xlmr.rename(columns={\"Action\": \"en\", \"Score\": \"en_xlmr_score\"}, inplace=True)\n",
    "\n",
    "scored_en_bert = pd.read_csv(\n",
    "    \"./opensubtitles/de-en.tok/en_subspace_qa_output/bert-base-cased_nliv2_en_OpenSubtitles.de-en.en.tok.csv\")[\"Score\"]\n",
    "scored_en_bert.rename(\"en_bert_score\", inplace=True)"
   ]
  },
  {
   "cell_type": "code",
   "execution_count": 3,
   "id": "b20910e1",
   "metadata": {},
   "outputs": [],
   "source": [
    "dual_xent_scores = pd.read_csv(\"./opensubtitles/de-en.tok/dxent.scores\")"
   ]
  },
  {
   "cell_type": "code",
   "execution_count": 4,
   "id": "b37e71d8",
   "metadata": {},
   "outputs": [],
   "source": [
    "assert len(scored_de_xlmr) == len(scored_en_xlmr) == len(scored_de_gbert)  == len(scored_en_bert) == len(dual_xent_scores)"
   ]
  },
  {
   "cell_type": "code",
   "execution_count": 5,
   "id": "07fc71ee",
   "metadata": {},
   "outputs": [],
   "source": [
    "data = pd.concat([scored_de_xlmr, scored_en_xlmr, scored_en_bert, scored_de_gbert, dual_xent_scores], axis=1)"
   ]
  },
  {
   "cell_type": "code",
   "execution_count": 6,
   "id": "52bc62bf",
   "metadata": {},
   "outputs": [
    {
     "data": {
      "text/html": [
       "<div>\n",
       "<style scoped>\n",
       "    .dataframe tbody tr th:only-of-type {\n",
       "        vertical-align: middle;\n",
       "    }\n",
       "\n",
       "    .dataframe tbody tr th {\n",
       "        vertical-align: top;\n",
       "    }\n",
       "\n",
       "    .dataframe thead th {\n",
       "        text-align: right;\n",
       "    }\n",
       "</style>\n",
       "<table border=\"1\" class=\"dataframe\">\n",
       "  <thead>\n",
       "    <tr style=\"text-align: right;\">\n",
       "      <th></th>\n",
       "      <th>de</th>\n",
       "      <th>de_xlmr_score</th>\n",
       "      <th>en</th>\n",
       "      <th>en_xlmr_score</th>\n",
       "      <th>en_bert_score</th>\n",
       "      <th>de_gbert_score</th>\n",
       "      <th>DualXent</th>\n",
       "    </tr>\n",
       "  </thead>\n",
       "  <tbody>\n",
       "    <tr>\n",
       "      <th>0</th>\n",
       "      <td>- Gloucester ? ! - Die sollten doch in Serfam ...</td>\n",
       "      <td>-0.339045</td>\n",
       "      <td>They should have surrendered when they had the...</td>\n",
       "      <td>-0.168553</td>\n",
       "      <td>-0.167128</td>\n",
       "      <td>-0.014514</td>\n",
       "      <td>2.476880e-06</td>\n",
       "    </tr>\n",
       "    <tr>\n",
       "      <th>1</th>\n",
       "      <td>Das sind nur Ubergroﬁe Knightmares !</td>\n",
       "      <td>-0.222421</td>\n",
       "      <td>What ?</td>\n",
       "      <td>0.237191</td>\n",
       "      <td>-0.394810</td>\n",
       "      <td>-0.113709</td>\n",
       "      <td>2.070940e-08</td>\n",
       "    </tr>\n",
       "    <tr>\n",
       "      <th>2</th>\n",
       "      <td>Es wére besser ihr kapituliert schleunigst !</td>\n",
       "      <td>-0.136661</td>\n",
       "      <td>Cornelia ...</td>\n",
       "      <td>0.259100</td>\n",
       "      <td>0.150108</td>\n",
       "      <td>-0.523387</td>\n",
       "      <td>1.040727e-06</td>\n",
       "    </tr>\n",
       "    <tr>\n",
       "      <th>3</th>\n",
       "      <td>Cornelia hat mit nur einer Maschine ... ? !</td>\n",
       "      <td>-0.237058</td>\n",
       "      <td>So this means that the creatures of Area 18 ha...</td>\n",
       "      <td>-0.456865</td>\n",
       "      <td>-0.329838</td>\n",
       "      <td>-0.122885</td>\n",
       "      <td>4.959832e-06</td>\n",
       "    </tr>\n",
       "    <tr>\n",
       "      <th>4</th>\n",
       "      <td>Damit ist die Einnahme von Area 18 abgeschloss...</td>\n",
       "      <td>0.182364</td>\n",
       "      <td>Sorry , I 'll have you accompany me in finishi...</td>\n",
       "      <td>0.188728</td>\n",
       "      <td>0.097872</td>\n",
       "      <td>-0.229209</td>\n",
       "      <td>1.261159e-05</td>\n",
       "    </tr>\n",
       "  </tbody>\n",
       "</table>\n",
       "</div>"
      ],
      "text/plain": [
       "                                                  de  de_xlmr_score  \\\n",
       "0  - Gloucester ? ! - Die sollten doch in Serfam ...      -0.339045   \n",
       "1               Das sind nur Ubergroﬁe Knightmares !      -0.222421   \n",
       "2       Es wére besser ihr kapituliert schleunigst !      -0.136661   \n",
       "3        Cornelia hat mit nur einer Maschine ... ? !      -0.237058   \n",
       "4  Damit ist die Einnahme von Area 18 abgeschloss...       0.182364   \n",
       "\n",
       "                                                  en  en_xlmr_score  \\\n",
       "0  They should have surrendered when they had the...      -0.168553   \n",
       "1                                             What ?       0.237191   \n",
       "2                                       Cornelia ...       0.259100   \n",
       "3  So this means that the creatures of Area 18 ha...      -0.456865   \n",
       "4  Sorry , I 'll have you accompany me in finishi...       0.188728   \n",
       "\n",
       "   en_bert_score  de_gbert_score      DualXent  \n",
       "0      -0.167128       -0.014514  2.476880e-06  \n",
       "1      -0.394810       -0.113709  2.070940e-08  \n",
       "2       0.150108       -0.523387  1.040727e-06  \n",
       "3      -0.329838       -0.122885  4.959832e-06  \n",
       "4       0.097872       -0.229209  1.261159e-05  "
      ]
     },
     "execution_count": 6,
     "metadata": {},
     "output_type": "execute_result"
    }
   ],
   "source": [
    "data.head()"
   ]
  },
  {
   "cell_type": "code",
   "execution_count": 7,
   "id": "8c5b280e",
   "metadata": {},
   "outputs": [],
   "source": [
    "import math\n",
    "data[\"xlmr_diff\"] = abs(data.en_xlmr_score - data.de_xlmr_score)\n",
    "data[\"de_diff\"] = abs(data.de_gbert_score - data.de_xlmr_score)\n",
    "data[\"en_diff\"] = abs(data.en_bert_score - data.en_xlmr_score)\n",
    "data[\"bert_diff\"] = abs(data.en_bert_score - data.de_gbert_score)\n",
    "data[\"log_dual_xent\"] = data.DualXent.map(math.log)"
   ]
  },
  {
   "cell_type": "code",
   "execution_count": 8,
   "id": "a7a111ae",
   "metadata": {},
   "outputs": [],
   "source": [
    "data = data.drop_duplicates(['de','en'], keep='last')\n",
    "data = data[data.en.map(lambda x: isinstance(x, str))]\n",
    "data = data[data.de.map(lambda x: isinstance(x, str))]"
   ]
  },
  {
   "cell_type": "code",
   "execution_count": 9,
   "id": "d011672b",
   "metadata": {},
   "outputs": [],
   "source": [
    "data = data[data.en.map(lambda x: \"?\" not in x)]\n",
    "data = data[data.de.map(lambda x: \"?\" not in x)]"
   ]
  },
  {
   "cell_type": "code",
   "execution_count": 10,
   "id": "a01dcee9",
   "metadata": {},
   "outputs": [
    {
     "name": "stdout",
     "output_type": "stream",
     "text": [
      "XLMR diff\n",
      "Correlation with exp scores: -0.1614573748736082\n",
      "Correlation with lgo scores: -0.2785419087272544\n",
      "German diff\n",
      "Correlation with exp scores: -0.02103227070544358\n",
      "Correlation with lgo scores: -0.03233114575302418\n",
      "English diff\n",
      "Correlation with exp scores: -0.02103227070544358\n",
      "Correlation with lgo scores: -0.03233114575302418\n",
      "English vs German mono\n",
      "Correlation with exp scores: -0.07683497745668504\n",
      "Correlation with lgo scores: -0.1627359195209456\n"
     ]
    }
   ],
   "source": [
    "print(\"XLMR diff\")\n",
    "print(f\"Correlation with exp scores: {data.xlmr_diff.corr(data.DualXent)}\")\n",
    "print(f\"Correlation with lgo scores: {data.xlmr_diff.corr(data.log_dual_xent)}\")\n",
    "\n",
    "print(\"German diff\")\n",
    "print(f\"Correlation with exp scores: {data.de_diff.corr(data.DualXent)}\")\n",
    "print(f\"Correlation with lgo scores: {data.de_diff.corr(data.log_dual_xent)}\")\n",
    "\n",
    "print(\"English diff\")\n",
    "print(f\"Correlation with exp scores: {data.de_diff.corr(data.DualXent)}\")\n",
    "print(f\"Correlation with lgo scores: {data.de_diff.corr(data.log_dual_xent)}\")\n",
    "\n",
    "print(\"English vs German mono\")\n",
    "print(f\"Correlation with exp scores: {data.bert_diff.corr(data.DualXent)}\")\n",
    "print(f\"Correlation with lgo scores: {data.bert_diff.corr(data.log_dual_xent)}\")"
   ]
  },
  {
   "cell_type": "code",
   "execution_count": 11,
   "id": "df6eed0c",
   "metadata": {},
   "outputs": [],
   "source": [
    "import matplotlib.pyplot as plt"
   ]
  },
  {
   "cell_type": "code",
   "execution_count": 13,
   "id": "7ff16965",
   "metadata": {},
   "outputs": [
    {
     "data": {
      "text/plain": [
       "(array([9.292562e+06, 4.055825e+06, 1.011343e+06, 2.241450e+05,\n",
       "        5.363900e+04, 1.274600e+04, 2.766000e+03, 5.590000e+02,\n",
       "        7.900000e+01, 1.500000e+01]),\n",
       " array([5.11454504e-10, 1.99788154e-01, 3.99576308e-01, 5.99364462e-01,\n",
       "        7.99152616e-01, 9.98940770e-01, 1.19872892e+00, 1.39851708e+00,\n",
       "        1.59830523e+00, 1.79809339e+00, 1.99788154e+00]),\n",
       " <BarContainer object of 10 artists>)"
      ]
     },
     "execution_count": 13,
     "metadata": {},
     "output_type": "execute_result"
    },
    {
     "data": {
      "image/png": "[encoded data removed]",
      "text/plain": [
       "<Figure size 432x288 with 1 Axes>"
      ]
     },
     "metadata": {
      "needs_background": "light"
     },
     "output_type": "display_data"
    }
   ],
   "source": [
    "plt.hist(data.bert_diff)"
   ]
  },
  {
   "cell_type": "code",
   "execution_count": 14,
   "id": "7eb1dcd4",
   "metadata": {},
   "outputs": [
    {
     "data": {
      "text/plain": [
       "(array([6.000000e+00, 9.000000e+01, 5.610000e+02, 2.739000e+03,\n",
       "        1.776400e+04, 1.163400e+05, 6.536060e+05, 2.538148e+06,\n",
       "        5.936513e+06, 5.387912e+06]),\n",
       " array([-40.32320748, -36.30436077, -32.28551406, -28.26666735,\n",
       "        -24.24782064, -20.22897392, -16.21012721, -12.1912805 ,\n",
       "         -8.17243379,  -4.15358708,  -0.13474037]),\n",
       " <BarContainer object of 10 artists>)"
      ]
     },
     "execution_count": 14,
     "metadata": {},
     "output_type": "execute_result"
    },
    {
     "data": {
      "image/png": "[encoded data removed]",
      "text/plain": [
       "<Figure size 432x288 with 1 Axes>"
      ]
     },
     "metadata": {
      "needs_background": "light"
     },
     "output_type": "display_data"
    }
   ],
   "source": [
    "plt.hist(data.log_dual_xent)"
   ]
  },
  {
   "cell_type": "code",
   "execution_count": 16,
   "id": "068d68b7",
   "metadata": {},
   "outputs": [
    {
     "data": {
      "text/plain": [
       "(-20.0, 0.0)"
      ]
     },
     "execution_count": 16,
     "metadata": {},
     "output_type": "execute_result"
    },
    {
     "data": {
      "image/png": "[encoded data removed]",
      "text/plain": [
       "<Figure size 432x288 with 1 Axes>"
      ]
     },
     "metadata": {
      "needs_background": "light"
     },
     "output_type": "display_data"
    }
   ],
   "source": [
    "plt.scatter(data.xlmr_diff[:100000], data.log_dual_xent[:100000], alpha=0.1, s=0.1)\n",
    "plt.xlim((0, 1.2))\n",
    "plt.ylim((-20, 0))"
   ]
  },
  {
   "cell_type": "code",
   "execution_count": 17,
   "id": "e4d48289",
   "metadata": {},
   "outputs": [
    {
     "data": {
      "text/plain": [
       "14653679"
      ]
     },
     "execution_count": 17,
     "metadata": {},
     "output_type": "execute_result"
    }
   ],
   "source": [
    "len(data)"
   ]
  },
  {
   "cell_type": "code",
   "execution_count": 18,
   "id": "f5fb84ab",
   "metadata": {},
   "outputs": [
    {
     "name": "stdout",
     "output_type": "stream",
     "text": [
      "XLMR diff\n",
      "Correlation with exp scores: -0.10907215411917356\n",
      "Correlation with lgo scores: -0.10381002266063197\n",
      "German diff\n",
      "Correlation with exp scores: -0.011696182371749927\n",
      "Correlation with lgo scores: -0.0090340840747418\n",
      "English diff\n",
      "Correlation with exp scores: -0.011696182371749927\n",
      "Correlation with lgo scores: -0.0090340840747418\n",
      "English vs German mono\n",
      "Correlation with exp scores: -0.023205121620504542\n",
      "Correlation with lgo scores: -0.023692660398922063\n"
     ]
    }
   ],
   "source": [
    "data = data[data.log_dual_xent > -3]\n",
    "print(\"XLMR diff\")\n",
    "print(f\"Correlation with exp scores: {data.xlmr_diff.corr(data.DualXent)}\")\n",
    "print(f\"Correlation with lgo scores: {data.xlmr_diff.corr(data.log_dual_xent)}\")\n",
    "\n",
    "print(\"German diff\")\n",
    "print(f\"Correlation with exp scores: {data.de_diff.corr(data.DualXent)}\")\n",
    "print(f\"Correlation with lgo scores: {data.de_diff.corr(data.log_dual_xent)}\")\n",
    "\n",
    "print(\"English diff\")\n",
    "print(f\"Correlation with exp scores: {data.de_diff.corr(data.DualXent)}\")\n",
    "print(f\"Correlation with lgo scores: {data.de_diff.corr(data.log_dual_xent)}\")\n",
    "\n",
    "print(\"English vs German mono\")\n",
    "print(f\"Correlation with exp scores: {data.bert_diff.corr(data.DualXent)}\")\n",
    "print(f\"Correlation with lgo scores: {data.bert_diff.corr(data.log_dual_xent)}\")"
   ]
  },
  {
   "cell_type": "code",
   "execution_count": 46,
   "id": "1fcbc2d0",
   "metadata": {
    "scrolled": false
   },
   "outputs": [
    {
     "data": {
      "text/html": [
       "<div>\n",
       "<style scoped>\n",
       "    .dataframe tbody tr th:only-of-type {\n",
       "        vertical-align: middle;\n",
       "    }\n",
       "\n",
       "    .dataframe tbody tr th {\n",
       "        vertical-align: top;\n",
       "    }\n",
       "\n",
       "    .dataframe thead th {\n",
       "        text-align: right;\n",
       "    }\n",
       "</style>\n",
       "<table border=\"1\" class=\"dataframe\">\n",
       "  <thead>\n",
       "    <tr style=\"text-align: right;\">\n",
       "      <th></th>\n",
       "      <th>en</th>\n",
       "      <th>en_bert_score</th>\n",
       "      <th>en_xlmr_score</th>\n",
       "    </tr>\n",
       "  </thead>\n",
       "  <tbody>\n",
       "    <tr>\n",
       "      <th>4785630</th>\n",
       "      <td>It is awful good of you to see us , Reese .</td>\n",
       "      <td>0.648980</td>\n",
       "      <td>-0.310538</td>\n",
       "    </tr>\n",
       "    <tr>\n",
       "      <th>8903921</th>\n",
       "      <td>Rationally ...!</td>\n",
       "      <td>-0.516688</td>\n",
       "      <td>0.442226</td>\n",
       "    </tr>\n",
       "    <tr>\n",
       "      <th>16147431</th>\n",
       "      <td>You befriended her and used her .</td>\n",
       "      <td>-0.322176</td>\n",
       "      <td>0.636018</td>\n",
       "    </tr>\n",
       "    <tr>\n",
       "      <th>145626</th>\n",
       "      <td>He was a swell dog .</td>\n",
       "      <td>0.387871</td>\n",
       "      <td>-0.570213</td>\n",
       "    </tr>\n",
       "    <tr>\n",
       "      <th>17961520</th>\n",
       "      <td>Rust .</td>\n",
       "      <td>-0.536359</td>\n",
       "      <td>0.420846</td>\n",
       "    </tr>\n",
       "    <tr>\n",
       "      <th>13738321</th>\n",
       "      <td>Rust .</td>\n",
       "      <td>-0.536359</td>\n",
       "      <td>0.420846</td>\n",
       "    </tr>\n",
       "    <tr>\n",
       "      <th>3873624</th>\n",
       "      <td>The slut deserved it .</td>\n",
       "      <td>-0.458619</td>\n",
       "      <td>0.498531</td>\n",
       "    </tr>\n",
       "    <tr>\n",
       "      <th>16453491</th>\n",
       "      <td>You look fried .</td>\n",
       "      <td>-0.356451</td>\n",
       "      <td>0.599423</td>\n",
       "    </tr>\n",
       "    <tr>\n",
       "      <th>11363365</th>\n",
       "      <td>Eat him .</td>\n",
       "      <td>-0.627735</td>\n",
       "      <td>0.327551</td>\n",
       "    </tr>\n",
       "    <tr>\n",
       "      <th>8970315</th>\n",
       "      <td>It 's a dwarf galaxy in the local group .</td>\n",
       "      <td>0.317310</td>\n",
       "      <td>-0.637819</td>\n",
       "    </tr>\n",
       "    <tr>\n",
       "      <th>10156973</th>\n",
       "      <td>Dignity , I say .</td>\n",
       "      <td>-0.322237</td>\n",
       "      <td>0.630324</td>\n",
       "    </tr>\n",
       "    <tr>\n",
       "      <th>9223037</th>\n",
       "      <td>- She loathes them .</td>\n",
       "      <td>-0.743577</td>\n",
       "      <td>0.207547</td>\n",
       "    </tr>\n",
       "    <tr>\n",
       "      <th>19722321</th>\n",
       "      <td>It 's a felony .</td>\n",
       "      <td>-1.069838</td>\n",
       "      <td>-0.119281</td>\n",
       "    </tr>\n",
       "    <tr>\n",
       "      <th>14381599</th>\n",
       "      <td>I 'll make him pay for what he did to you .</td>\n",
       "      <td>-0.564463</td>\n",
       "      <td>0.386069</td>\n",
       "    </tr>\n",
       "    <tr>\n",
       "      <th>15851261</th>\n",
       "      <td>- He 's a felon .</td>\n",
       "      <td>-1.106315</td>\n",
       "      <td>-0.155974</td>\n",
       "    </tr>\n",
       "    <tr>\n",
       "      <th>20995291</th>\n",
       "      <td>I want her to pay for what she did to us .</td>\n",
       "      <td>-0.411969</td>\n",
       "      <td>0.537850</td>\n",
       "    </tr>\n",
       "    <tr>\n",
       "      <th>9672335</th>\n",
       "      <td>¡ Te voy a matar !</td>\n",
       "      <td>0.266995</td>\n",
       "      <td>-0.682441</td>\n",
       "    </tr>\n",
       "    <tr>\n",
       "      <th>5533362</th>\n",
       "      <td>This man 's a felon .</td>\n",
       "      <td>-1.090480</td>\n",
       "      <td>-0.141365</td>\n",
       "    </tr>\n",
       "    <tr>\n",
       "      <th>4925806</th>\n",
       "      <td>- Frivolous .</td>\n",
       "      <td>-0.400129</td>\n",
       "      <td>0.548330</td>\n",
       "    </tr>\n",
       "    <tr>\n",
       "      <th>12638078</th>\n",
       "      <td>He said Queen will pay for what he 's done to ...</td>\n",
       "      <td>-0.358735</td>\n",
       "      <td>0.589457</td>\n",
       "    </tr>\n",
       "    <tr>\n",
       "      <th>14219927</th>\n",
       "      <td>God wants you to hang yourself with it . \"</td>\n",
       "      <td>-0.533839</td>\n",
       "      <td>0.414344</td>\n",
       "    </tr>\n",
       "    <tr>\n",
       "      <th>7019715</th>\n",
       "      <td>That 's what I 'd do to you .</td>\n",
       "      <td>-0.326342</td>\n",
       "      <td>0.621749</td>\n",
       "    </tr>\n",
       "    <tr>\n",
       "      <th>18402846</th>\n",
       "      <td>- Benvenuto !</td>\n",
       "      <td>-0.010871</td>\n",
       "      <td>0.937113</td>\n",
       "    </tr>\n",
       "    <tr>\n",
       "      <th>5925215</th>\n",
       "      <td>That 's opium .</td>\n",
       "      <td>-0.713745</td>\n",
       "      <td>0.233019</td>\n",
       "    </tr>\n",
       "    <tr>\n",
       "      <th>4405856</th>\n",
       "      <td>Excrement .</td>\n",
       "      <td>-0.419547</td>\n",
       "      <td>0.526622</td>\n",
       "    </tr>\n",
       "    <tr>\n",
       "      <th>17689140</th>\n",
       "      <td>Excrement .</td>\n",
       "      <td>-0.419547</td>\n",
       "      <td>0.526622</td>\n",
       "    </tr>\n",
       "    <tr>\n",
       "      <th>20643201</th>\n",
       "      <td>Goodwin !</td>\n",
       "      <td>-0.079256</td>\n",
       "      <td>0.866755</td>\n",
       "    </tr>\n",
       "    <tr>\n",
       "      <th>13895377</th>\n",
       "      <td>I want you to tie me up .</td>\n",
       "      <td>-0.492485</td>\n",
       "      <td>0.453127</td>\n",
       "    </tr>\n",
       "    <tr>\n",
       "      <th>22127691</th>\n",
       "      <td>I want you to tie me up .</td>\n",
       "      <td>-0.492485</td>\n",
       "      <td>0.453127</td>\n",
       "    </tr>\n",
       "    <tr>\n",
       "      <th>15404432</th>\n",
       "      <td>It is opium .</td>\n",
       "      <td>-0.805302</td>\n",
       "      <td>0.140135</td>\n",
       "    </tr>\n",
       "    <tr>\n",
       "      <th>13771906</th>\n",
       "      <td>This guy is going to pay for what he did to you .</td>\n",
       "      <td>-0.511532</td>\n",
       "      <td>0.432812</td>\n",
       "    </tr>\n",
       "    <tr>\n",
       "      <th>21287017</th>\n",
       "      <td>So we had to show him mercy .</td>\n",
       "      <td>-0.470309</td>\n",
       "      <td>0.474011</td>\n",
       "    </tr>\n",
       "    <tr>\n",
       "      <th>12149770</th>\n",
       "      <td>Obrigado ...</td>\n",
       "      <td>-0.008061</td>\n",
       "      <td>0.935787</td>\n",
       "    </tr>\n",
       "    <tr>\n",
       "      <th>6252007</th>\n",
       "      <td>She was totally at my mercy .</td>\n",
       "      <td>-0.553764</td>\n",
       "      <td>0.390063</td>\n",
       "    </tr>\n",
       "    <tr>\n",
       "      <th>6290215</th>\n",
       "      <td>That 's a fancy word for mercy .</td>\n",
       "      <td>-0.266615</td>\n",
       "      <td>0.677117</td>\n",
       "    </tr>\n",
       "    <tr>\n",
       "      <th>12186113</th>\n",
       "      <td>Sally 's dying to talk to her .</td>\n",
       "      <td>0.456351</td>\n",
       "      <td>-0.486657</td>\n",
       "    </tr>\n",
       "    <tr>\n",
       "      <th>13221370</th>\n",
       "      <td>Vraiment .</td>\n",
       "      <td>0.414893</td>\n",
       "      <td>-0.527538</td>\n",
       "    </tr>\n",
       "    <tr>\n",
       "      <th>9704401</th>\n",
       "      <td>Yes , she stole .</td>\n",
       "      <td>-0.610579</td>\n",
       "      <td>0.331342</td>\n",
       "    </tr>\n",
       "    <tr>\n",
       "      <th>10872660</th>\n",
       "      <td>You branded my daughter .</td>\n",
       "      <td>-0.521381</td>\n",
       "      <td>0.420128</td>\n",
       "    </tr>\n",
       "    <tr>\n",
       "      <th>19856379</th>\n",
       "      <td>And God knows what he 's done to others .</td>\n",
       "      <td>-0.829035</td>\n",
       "      <td>0.112401</td>\n",
       "    </tr>\n",
       "    <tr>\n",
       "      <th>18040</th>\n",
       "      <td>It was renegade whites .</td>\n",
       "      <td>-0.617360</td>\n",
       "      <td>0.323353</td>\n",
       "    </tr>\n",
       "    <tr>\n",
       "      <th>13383533</th>\n",
       "      <td>Let her die .</td>\n",
       "      <td>-0.707717</td>\n",
       "      <td>0.232211</td>\n",
       "    </tr>\n",
       "    <tr>\n",
       "      <th>937906</th>\n",
       "      <td>Let her die .</td>\n",
       "      <td>-0.707717</td>\n",
       "      <td>0.232211</td>\n",
       "    </tr>\n",
       "    <tr>\n",
       "      <th>19957424</th>\n",
       "      <td>Ask him for mercy .</td>\n",
       "      <td>-0.251171</td>\n",
       "      <td>0.688451</td>\n",
       "    </tr>\n",
       "    <tr>\n",
       "      <th>15741790</th>\n",
       "      <td>We stole her birthright .</td>\n",
       "      <td>-0.651927</td>\n",
       "      <td>0.287052</td>\n",
       "    </tr>\n",
       "    <tr>\n",
       "      <th>6565461</th>\n",
       "      <td>Because I 'm going to love you to death .</td>\n",
       "      <td>-0.274666</td>\n",
       "      <td>0.663959</td>\n",
       "    </tr>\n",
       "    <tr>\n",
       "      <th>2047832</th>\n",
       "      <td>To suffer for you is my pleasure .</td>\n",
       "      <td>-0.409423</td>\n",
       "      <td>0.529058</td>\n",
       "    </tr>\n",
       "    <tr>\n",
       "      <th>14371125</th>\n",
       "      <td>- The Bine !</td>\n",
       "      <td>-0.095849</td>\n",
       "      <td>0.842592</td>\n",
       "    </tr>\n",
       "    <tr>\n",
       "      <th>13624884</th>\n",
       "      <td>You have something very infectious .</td>\n",
       "      <td>0.560400</td>\n",
       "      <td>-0.377741</td>\n",
       "    </tr>\n",
       "    <tr>\n",
       "      <th>2616267</th>\n",
       "      <td>We played pranks on them .</td>\n",
       "      <td>-0.810519</td>\n",
       "      <td>0.127510</td>\n",
       "    </tr>\n",
       "  </tbody>\n",
       "</table>\n",
       "</div>"
      ],
      "text/plain": [
       "                                                         en  en_bert_score  \\\n",
       "4785630         It is awful good of you to see us , Reese .       0.648980   \n",
       "8903921                                     Rationally ...!      -0.516688   \n",
       "16147431                  You befriended her and used her .      -0.322176   \n",
       "145626                                 He was a swell dog .       0.387871   \n",
       "17961520                                             Rust .      -0.536359   \n",
       "13738321                                             Rust .      -0.536359   \n",
       "3873624                              The slut deserved it .      -0.458619   \n",
       "16453491                                   You look fried .      -0.356451   \n",
       "11363365                                          Eat him .      -0.627735   \n",
       "8970315           It 's a dwarf galaxy in the local group .       0.317310   \n",
       "10156973                                  Dignity , I say .      -0.322237   \n",
       "9223037                                - She loathes them .      -0.743577   \n",
       "19722321                                   It 's a felony .      -1.069838   \n",
       "14381599        I 'll make him pay for what he did to you .      -0.564463   \n",
       "15851261                                  - He 's a felon .      -1.106315   \n",
       "20995291         I want her to pay for what she did to us .      -0.411969   \n",
       "9672335                                  ¡ Te voy a matar !       0.266995   \n",
       "5533362                               This man 's a felon .      -1.090480   \n",
       "4925806                                       - Frivolous .      -0.400129   \n",
       "12638078  He said Queen will pay for what he 's done to ...      -0.358735   \n",
       "14219927         God wants you to hang yourself with it . \"      -0.533839   \n",
       "7019715                       That 's what I 'd do to you .      -0.326342   \n",
       "18402846                                      - Benvenuto !      -0.010871   \n",
       "5925215                                     That 's opium .      -0.713745   \n",
       "4405856                                         Excrement .      -0.419547   \n",
       "17689140                                        Excrement .      -0.419547   \n",
       "20643201                                          Goodwin !      -0.079256   \n",
       "13895377                          I want you to tie me up .      -0.492485   \n",
       "22127691                          I want you to tie me up .      -0.492485   \n",
       "15404432                                      It is opium .      -0.805302   \n",
       "13771906  This guy is going to pay for what he did to you .      -0.511532   \n",
       "21287017                      So we had to show him mercy .      -0.470309   \n",
       "12149770                                       Obrigado ...      -0.008061   \n",
       "6252007                       She was totally at my mercy .      -0.553764   \n",
       "6290215                    That 's a fancy word for mercy .      -0.266615   \n",
       "12186113                    Sally 's dying to talk to her .       0.456351   \n",
       "13221370                                         Vraiment .       0.414893   \n",
       "9704401                                   Yes , she stole .      -0.610579   \n",
       "10872660                          You branded my daughter .      -0.521381   \n",
       "19856379          And God knows what he 's done to others .      -0.829035   \n",
       "18040                              It was renegade whites .      -0.617360   \n",
       "13383533                                      Let her die .      -0.707717   \n",
       "937906                                        Let her die .      -0.707717   \n",
       "19957424                                Ask him for mercy .      -0.251171   \n",
       "15741790                          We stole her birthright .      -0.651927   \n",
       "6565461           Because I 'm going to love you to death .      -0.274666   \n",
       "2047832                  To suffer for you is my pleasure .      -0.409423   \n",
       "14371125                                       - The Bine !      -0.095849   \n",
       "13624884               You have something very infectious .       0.560400   \n",
       "2616267                          We played pranks on them .      -0.810519   \n",
       "\n",
       "          en_xlmr_score  \n",
       "4785630       -0.310538  \n",
       "8903921        0.442226  \n",
       "16147431       0.636018  \n",
       "145626        -0.570213  \n",
       "17961520       0.420846  \n",
       "13738321       0.420846  \n",
       "3873624        0.498531  \n",
       "16453491       0.599423  \n",
       "11363365       0.327551  \n",
       "8970315       -0.637819  \n",
       "10156973       0.630324  \n",
       "9223037        0.207547  \n",
       "19722321      -0.119281  \n",
       "14381599       0.386069  \n",
       "15851261      -0.155974  \n",
       "20995291       0.537850  \n",
       "9672335       -0.682441  \n",
       "5533362       -0.141365  \n",
       "4925806        0.548330  \n",
       "12638078       0.589457  \n",
       "14219927       0.414344  \n",
       "7019715        0.621749  \n",
       "18402846       0.937113  \n",
       "5925215        0.233019  \n",
       "4405856        0.526622  \n",
       "17689140       0.526622  \n",
       "20643201       0.866755  \n",
       "13895377       0.453127  \n",
       "22127691       0.453127  \n",
       "15404432       0.140135  \n",
       "13771906       0.432812  \n",
       "21287017       0.474011  \n",
       "12149770       0.935787  \n",
       "6252007        0.390063  \n",
       "6290215        0.677117  \n",
       "12186113      -0.486657  \n",
       "13221370      -0.527538  \n",
       "9704401        0.331342  \n",
       "10872660       0.420128  \n",
       "19856379       0.112401  \n",
       "18040          0.323353  \n",
       "13383533       0.232211  \n",
       "937906         0.232211  \n",
       "19957424       0.688451  \n",
       "15741790       0.287052  \n",
       "6565461        0.663959  \n",
       "2047832        0.529058  \n",
       "14371125       0.842592  \n",
       "13624884      -0.377741  \n",
       "2616267        0.127510  "
      ]
     },
     "execution_count": 46,
     "metadata": {},
     "output_type": "execute_result"
    }
   ],
   "source": [
    "data.nlargest(200, 'en_diff').tail(50)[['en', 'en_bert_score', 'en_xlmr_score']]"
   ]
  },
  {
   "cell_type": "code",
   "execution_count": 51,
   "id": "c99b4251",
   "metadata": {
    "scrolled": false
   },
   "outputs": [
    {
     "data": {
      "text/plain": [
       "xlmr_diff    0.116883\n",
       "de_diff      0.147191\n",
       "en_diff      0.162826\n",
       "bert_diff    0.159146\n",
       "dtype: float64"
      ]
     },
     "execution_count": 51,
     "metadata": {},
     "output_type": "execute_result"
    }
   ],
   "source": [
    "data[['xlmr_diff', 'de_diff', 'en_diff', 'bert_diff']].mean()"
   ]
  },
  {
   "cell_type": "code",
   "execution_count": 64,
   "id": "a421aeea",
   "metadata": {},
   "outputs": [
    {
     "data": {
      "text/plain": [
       "(array([2.00000e+00, 0.00000e+00, 0.00000e+00, 3.00000e+00, 1.00000e+00,\n",
       "        3.00000e+00, 1.00000e+00, 3.00000e+00, 2.00000e+00, 5.00000e+00,\n",
       "        8.00000e+00, 1.30000e+01, 1.80000e+01, 1.00000e+01, 3.20000e+01,\n",
       "        4.10000e+01, 7.90000e+01, 1.01000e+02, 1.11000e+02, 1.71000e+02,\n",
       "        2.08000e+02, 2.37000e+02, 3.01000e+02, 3.71000e+02, 5.10000e+02,\n",
       "        6.10000e+02, 7.74000e+02, 8.36000e+02, 1.00200e+03, 1.21300e+03,\n",
       "        1.48000e+03, 1.88600e+03, 2.31800e+03, 2.89000e+03, 3.72400e+03,\n",
       "        4.74600e+03, 6.02900e+03, 8.03500e+03, 1.03510e+04, 1.34310e+04,\n",
       "        1.83800e+04, 2.51880e+04, 3.48730e+04, 4.86850e+04, 6.76050e+04,\n",
       "        9.44260e+04, 1.31006e+05, 1.78094e+05, 2.30094e+05, 2.78309e+05,\n",
       "        3.09720e+05, 3.19863e+05, 3.01387e+05, 2.69351e+05, 2.27709e+05,\n",
       "        1.87490e+05, 1.49207e+05, 1.15886e+05, 8.71970e+04, 6.45310e+04,\n",
       "        4.75750e+04, 3.45710e+04, 2.57390e+04, 1.90290e+04, 1.45350e+04,\n",
       "        1.09340e+04, 8.32200e+03, 6.54300e+03, 5.04400e+03, 3.85800e+03,\n",
       "        3.12600e+03, 2.43500e+03, 1.98200e+03, 1.49000e+03, 1.23600e+03,\n",
       "        1.06200e+03, 7.82000e+02, 6.07000e+02, 5.14000e+02, 4.37000e+02,\n",
       "        3.60000e+02, 2.78000e+02, 2.43000e+02, 1.92000e+02, 1.64000e+02,\n",
       "        1.36000e+02, 9.80000e+01, 8.60000e+01, 6.80000e+01, 5.70000e+01,\n",
       "        3.80000e+01, 2.60000e+01, 1.60000e+01, 1.50000e+01, 5.00000e+00,\n",
       "        7.00000e+00, 9.00000e+00, 3.00000e+00, 2.00000e+00, 4.00000e+00]),\n",
       " array([-1.54341622e+00, -1.51371402e+00, -1.48401181e+00, -1.45430961e+00,\n",
       "        -1.42460741e+00, -1.39490521e+00, -1.36520301e+00, -1.33550081e+00,\n",
       "        -1.30579861e+00, -1.27609641e+00, -1.24639420e+00, -1.21669200e+00,\n",
       "        -1.18698980e+00, -1.15728760e+00, -1.12758540e+00, -1.09788320e+00,\n",
       "        -1.06818100e+00, -1.03847880e+00, -1.00877660e+00, -9.79074394e-01,\n",
       "        -9.49372193e-01, -9.19669992e-01, -8.89967790e-01, -8.60265589e-01,\n",
       "        -8.30563388e-01, -8.00861187e-01, -7.71158986e-01, -7.41456784e-01,\n",
       "        -7.11754583e-01, -6.82052382e-01, -6.52350181e-01, -6.22647980e-01,\n",
       "        -5.92945778e-01, -5.63243577e-01, -5.33541376e-01, -5.03839175e-01,\n",
       "        -4.74136974e-01, -4.44434773e-01, -4.14732571e-01, -3.85030370e-01,\n",
       "        -3.55328169e-01, -3.25625968e-01, -2.95923767e-01, -2.66221565e-01,\n",
       "        -2.36519364e-01, -2.06817163e-01, -1.77114962e-01, -1.47412761e-01,\n",
       "        -1.17710559e-01, -8.80083583e-02, -5.83061571e-02, -2.86039559e-02,\n",
       "         1.09824527e-03,  3.08004465e-02,  6.05026476e-02,  9.02048488e-02,\n",
       "         1.19907050e-01,  1.49609251e-01,  1.79311452e-01,  2.09013654e-01,\n",
       "         2.38715855e-01,  2.68418056e-01,  2.98120257e-01,  3.27822458e-01,\n",
       "         3.57524660e-01,  3.87226861e-01,  4.16929062e-01,  4.46631263e-01,\n",
       "         4.76333464e-01,  5.06035665e-01,  5.35737867e-01,  5.65440068e-01,\n",
       "         5.95142269e-01,  6.24844470e-01,  6.54546671e-01,  6.84248873e-01,\n",
       "         7.13951074e-01,  7.43653275e-01,  7.73355476e-01,  8.03057677e-01,\n",
       "         8.32759878e-01,  8.62462080e-01,  8.92164281e-01,  9.21866482e-01,\n",
       "         9.51568683e-01,  9.81270884e-01,  1.01097309e+00,  1.04067529e+00,\n",
       "         1.07037749e+00,  1.10007969e+00,  1.12978189e+00,  1.15948409e+00,\n",
       "         1.18918629e+00,  1.21888849e+00,  1.24859070e+00,  1.27829290e+00,\n",
       "         1.30799510e+00,  1.33769730e+00,  1.36739950e+00,  1.39710170e+00,\n",
       "         1.42680390e+00]),\n",
       " <BarContainer object of 100 artists>)"
      ]
     },
     "execution_count": 64,
     "metadata": {},
     "output_type": "execute_result"
    },
    {
     "data": {
      "image/png": "[encoded data removed]",
      "text/plain": [
       "<Figure size 432x288 with 1 Axes>"
      ]
     },
     "metadata": {
      "needs_background": "light"
     },
     "output_type": "display_data"
    }
   ],
   "source": [
    "plt.hist(data.de_gbert_score - data.de_xlmr_score, bins=100t)\n",
    "plt.hist(data.en_bert_score - data.en_xlmr_score, bins=100)\n",
    "plt.hist(data.en_bert_score - data.de_gbert_score, bins=100)\n",
    "plt.hist(data.en_xlmr_score - data.de_xlmr_score, bins=100)"
   ]
  },
  {
   "cell_type": "code",
   "execution_count": 39,
   "id": "a3dad770",
   "metadata": {},
   "outputs": [],
   "source": [
    "data.to_csv(\"scored-en-de.csv\")"
   ]
  },
  {
   "cell_type": "code",
   "execution_count": 76,
   "id": "d5c36285",
   "metadata": {},
   "outputs": [
    {
     "data": {
      "text/plain": [
       "0.0"
      ]
     },
     "execution_count": 76,
     "metadata": {},
     "output_type": "execute_result"
    }
   ],
   "source": [
    "import scipy.stats\n",
    "#scipy.stats.ttest_rel(data.de_gbert_score, data.de_xlmr_score)\n",
    "scipy.stats.ttest_rel(data.en_bert_score[1:], data.de_gbert_score[:-1]).pvalue"
   ]
  }
 ],
 "metadata": {
  "kernelspec": {
   "display_name": "Python 3 (ipykernel)",
   "language": "python",
   "name": "python3"
  },
  "language_info": {
   "codemirror_mode": {
    "name": "ipython",
    "version": 3
   },
   "file_extension": ".py",
   "mimetype": "text/x-python",
   "name": "python",
   "nbconvert_exporter": "python",
   "pygments_lexer": "ipython3",
   "version": "3.9.7"
  }
 },
 "nbformat": 4,
 "nbformat_minor": 5
}
