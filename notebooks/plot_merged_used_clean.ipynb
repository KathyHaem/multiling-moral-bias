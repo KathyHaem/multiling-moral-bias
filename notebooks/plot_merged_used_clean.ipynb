{
 "cells": [
  {
   "cell_type": "code",
   "execution_count": 1,
   "metadata": {},
   "outputs": [],
   "source": [
    "import matplotlib.pyplot as plt\n",
    "import pandas as pd"
   ]
  },
  {
   "cell_type": "code",
   "execution_count": 2,
   "metadata": {},
   "outputs": [],
   "source": [
    "pd_1_only_mono = pd.read_csv('mono.csv')\n",
    "pd_1_only_multi = pd.read_csv('multi.csv')"
   ]
  },
  {
   "cell_type": "code",
   "execution_count": 3,
   "metadata": {},
   "outputs": [],
   "source": [
    "means = pd_1_only_multi.mean()"
   ]
  },
  {
   "cell_type": "code",
   "execution_count": 4,
   "metadata": {},
   "outputs": [],
   "source": [
    "means2 = pd_1_only_mono.mean()"
   ]
  },
  {
   "cell_type": "code",
   "execution_count": 5,
   "metadata": {},
   "outputs": [],
   "source": [
    "positive2 = [k for k in means2.keys()[1:] if means2[k] > 0]"
   ]
  },
  {
   "cell_type": "code",
   "execution_count": 6,
   "metadata": {},
   "outputs": [
    {
     "data": {
      "text/plain": [
       "['eat',\n",
       " 'volunteer',\n",
       " 'compliment',\n",
       " 'be',\n",
       " 'pursue',\n",
       " 'smile',\n",
       " 'dream',\n",
       " 'love',\n",
       " 'inspire',\n",
       " 'help',\n",
       " 'hug',\n",
       " 'treasure',\n",
       " 'become',\n",
       " 'go',\n",
       " 'cuddle',\n",
       " 'drink',\n",
       " 'cherish',\n",
       " 'have',\n",
       " 'cheer',\n",
       " 'care',\n",
       " 'welcome',\n",
       " 'relax',\n",
       " 'apologize',\n",
       " 'marry',\n",
       " 'admire',\n",
       " 'congratulate',\n",
       " 'enjoy',\n",
       " 'travel',\n",
       " 'talk',\n",
       " 'greet',\n",
       " 'thank',\n",
       " 'appreciate',\n",
       " 'charm',\n",
       " 'celebrate',\n",
       " 'comfort']"
      ]
     },
     "execution_count": 6,
     "metadata": {},
     "output_type": "execute_result"
    }
   ],
   "source": [
    "positive = [k for k in means.keys()[1:] if -means[k] > 0]\n",
    "positive"
   ]
  },
  {
   "cell_type": "code",
   "execution_count": 7,
   "metadata": {},
   "outputs": [
    {
     "data": {
      "text/plain": [
       "['steal',\n",
       " 'waste',\n",
       " 'torture',\n",
       " 'divorce',\n",
       " 'destroy',\n",
       " 'lie',\n",
       " 'clap',\n",
       " 'blame',\n",
       " 'pollute',\n",
       " 'destruct',\n",
       " 'harm',\n",
       " 'misdirect',\n",
       " 'attack',\n",
       " 'brutalise',\n",
       " 'bully',\n",
       " 'murder',\n",
       " 'misreport',\n",
       " 'assault',\n",
       " 'misinform',\n",
       " 'traumatize',\n",
       " 'damage',\n",
       " 'victimise',\n",
       " 'rape',\n",
       " 'poison',\n",
       " 'illegalize',\n",
       " 'slander',\n",
       " 'misadvise',\n",
       " 'slaughter',\n",
       " 'kill']"
      ]
     },
     "execution_count": 7,
     "metadata": {},
     "output_type": "execute_result"
    }
   ],
   "source": [
    "negative = [k for k in means.keys()[1:] if -means[k] < 0]\n",
    "negative"
   ]
  },
  {
   "cell_type": "code",
   "execution_count": 8,
   "metadata": {},
   "outputs": [
    {
     "name": "stdout",
     "output_type": "stream",
     "text": [
      "29 35   --  36\n"
     ]
    }
   ],
   "source": [
    "print(len(negative),len(positive),\"  -- \",len(positive2))"
   ]
  },
  {
   "cell_type": "code",
   "execution_count": 9,
   "metadata": {},
   "outputs": [
    {
     "name": "stdout",
     "output_type": "stream",
     "text": [
      "[]\n"
     ]
    }
   ],
   "source": [
    "print([x for x in positive if x not in positive2])"
   ]
  },
  {
   "cell_type": "code",
   "execution_count": 10,
   "metadata": {},
   "outputs": [
    {
     "data": {
      "text/plain": [
       "(0.0, 0.1)"
      ]
     },
     "execution_count": 10,
     "metadata": {},
     "output_type": "execute_result"
    },
    {
     "data": {
      "image/png": "[encoded data removed]",
      "text/plain": [
       "<Figure size 432x288 with 1 Axes>"
      ]
     },
     "metadata": {
      "needs_background": "light"
     },
     "output_type": "display_data"
    }
   ],
   "source": [
    "plt.hist([x for x in pd_1_only_mono[positive].var() ], bins=[i/200 for i in range(20)])\n",
    "plt.xlim(0,.1)"
   ]
  },
  {
   "cell_type": "code",
   "execution_count": 11,
   "metadata": {},
   "outputs": [
    {
     "data": {
      "text/plain": [
       "(0.0, 0.1)"
      ]
     },
     "execution_count": 11,
     "metadata": {},
     "output_type": "execute_result"
    },
    {
     "data": {
      "image/png": "[encoded data removed]",
      "text/plain": [
       "<Figure size 432x288 with 1 Axes>"
      ]
     },
     "metadata": {
      "needs_background": "light"
     },
     "output_type": "display_data"
    }
   ],
   "source": [
    "plt.hist([x for x in pd_1_only_multi[positive].var() ], bins=[i/200 for i in range(20)])\n",
    "plt.xlim(0,.1)"
   ]
  },
  {
   "cell_type": "code",
   "execution_count": 12,
   "metadata": {},
   "outputs": [
    {
     "data": {
      "text/plain": [
       "['compliment', 'hug', 'treasure', 'cuddle', 'cherish', 'cheer']"
      ]
     },
     "execution_count": 12,
     "metadata": {},
     "output_type": "execute_result"
    }
   ],
   "source": [
    "[k for k in positive if pd_1_only_multi[k].var() > .05]"
   ]
  },
  {
   "cell_type": "code",
   "execution_count": 13,
   "metadata": {},
   "outputs": [
    {
     "data": {
      "text/plain": [
       "([<matplotlib.axis.XTick at 0x7f5d237cd310>,\n",
       "  <matplotlib.axis.XTick at 0x7f5d237cd2e0>],\n",
       " [Text(0, 0, 'mono'), Text(0, 0, 'multi')])"
      ]
     },
     "execution_count": 13,
     "metadata": {},
     "output_type": "execute_result"
    },
    {
     "data": {
      "image/png": "[encoded data removed]",
      "text/plain": [
       "<Figure size 432x288 with 1 Axes>"
      ]
     },
     "metadata": {
      "needs_background": "light"
     },
     "output_type": "display_data"
    }
   ],
   "source": [
    "plt.boxplot([[x for x in pd_1_only_mono[positive].var() ], [x for x in pd_1_only_multi[positive].var() ]])\n",
    "plt.title('positive verbs variance')\n",
    "plt.xticks(ticks=[1,2],labels=['mono','multi'])"
   ]
  },
  {
   "cell_type": "code",
   "execution_count": 14,
   "metadata": {},
   "outputs": [
    {
     "data": {
      "text/plain": [
       "([<matplotlib.axis.XTick at 0x7f5d23740cd0>,\n",
       "  <matplotlib.axis.XTick at 0x7f5d23740ca0>],\n",
       " [Text(0, 0, 'mono'), Text(0, 0, 'multi')])"
      ]
     },
     "execution_count": 14,
     "metadata": {},
     "output_type": "execute_result"
    },
    {
     "data": {
      "image/png": "[encoded data removed]",
      "text/plain": [
       "<Figure size 432x288 with 1 Axes>"
      ]
     },
     "metadata": {
      "needs_background": "light"
     },
     "output_type": "display_data"
    }
   ],
   "source": [
    "plt.boxplot([[x for x in pd_1_only_mono[negative].var()], [x for x in pd_1_only_multi[negative].var()]])\n",
    "plt.title('negative verbs variance')\n",
    "plt.xticks(ticks=[1,2],labels=['mono','multi'])"
   ]
  },
  {
   "cell_type": "code",
   "execution_count": 15,
   "metadata": {},
   "outputs": [
    {
     "data": {
      "text/plain": [
       "([<matplotlib.axis.XTick at 0x7f5d236b8c40>,\n",
       "  <matplotlib.axis.XTick at 0x7f5d236b8c10>],\n",
       " [Text(0, 0, 'mono'), Text(0, 0, 'multi')])"
      ]
     },
     "execution_count": 15,
     "metadata": {},
     "output_type": "execute_result"
    },
    {
     "data": {
      "image/png": "[encoded data removed]",
      "text/plain": [
       "<Figure size 432x288 with 1 Axes>"
      ]
     },
     "metadata": {
      "needs_background": "light"
     },
     "output_type": "display_data"
    }
   ],
   "source": [
    "plt.boxplot([[x for x in pd_1_only_mono.var()[1:]], [x for x in pd_1_only_multi.var()[1:]]]) #1. entry = pandas special, if no filter before\n",
    "plt.title('all verbs variance')\n",
    "plt.xticks(ticks=[1,2],labels=['mono','multi'])"
   ]
  },
  {
   "cell_type": "code",
   "execution_count": 16,
   "metadata": {},
   "outputs": [
    {
     "data": {
      "text/plain": [
       "(0.0, 0.1)"
      ]
     },
     "execution_count": 16,
     "metadata": {},
     "output_type": "execute_result"
    },
    {
     "data": {
      "image/png": "[encoded data removed]",
      "text/plain": [
       "<Figure size 432x288 with 1 Axes>"
      ]
     },
     "metadata": {
      "needs_background": "light"
     },
     "output_type": "display_data"
    }
   ],
   "source": [
    "plt.hist([x for x in pd_1_only_mono[negative].var()], bins=[i/200 for i in range(20)])\n",
    "plt.xlim(0,.1)"
   ]
  },
  {
   "cell_type": "code",
   "execution_count": 17,
   "metadata": {},
   "outputs": [
    {
     "data": {
      "text/plain": [
       "(0.0, 0.1)"
      ]
     },
     "execution_count": 17,
     "metadata": {},
     "output_type": "execute_result"
    },
    {
     "data": {
      "image/png": "[encoded data removed]",
      "text/plain": [
       "<Figure size 432x288 with 1 Axes>"
      ]
     },
     "metadata": {
      "needs_background": "light"
     },
     "output_type": "display_data"
    }
   ],
   "source": [
    "plt.hist([x for x in pd_1_only_multi[negative].var() ], bins=[i/200 for i in range(20)])\n",
    "plt.xlim(0,.1)"
   ]
  },
  {
   "cell_type": "code",
   "execution_count": 18,
   "metadata": {},
   "outputs": [
    {
     "data": {
      "text/html": [
       "<div>\n",
       "<style scoped>\n",
       "    .dataframe tbody tr th:only-of-type {\n",
       "        vertical-align: middle;\n",
       "    }\n",
       "\n",
       "    .dataframe tbody tr th {\n",
       "        vertical-align: top;\n",
       "    }\n",
       "\n",
       "    .dataframe thead th {\n",
       "        text-align: right;\n",
       "    }\n",
       "</style>\n",
       "<table border=\"1\" class=\"dataframe\">\n",
       "  <thead>\n",
       "    <tr style=\"text-align: right;\">\n",
       "      <th></th>\n",
       "      <th>Unnamed: 0</th>\n",
       "      <th>slaughter</th>\n",
       "      <th>misreport</th>\n",
       "      <th>hug</th>\n",
       "      <th>kill</th>\n",
       "      <th>relax</th>\n",
       "      <th>cherish</th>\n",
       "      <th>thank</th>\n",
       "      <th>care</th>\n",
       "      <th>welcome</th>\n",
       "      <th>...</th>\n",
       "      <th>cheer</th>\n",
       "      <th>torture</th>\n",
       "      <th>admire</th>\n",
       "      <th>rape</th>\n",
       "      <th>harm</th>\n",
       "      <th>blame</th>\n",
       "      <th>steal</th>\n",
       "      <th>pursue</th>\n",
       "      <th>misinform</th>\n",
       "      <th>celebrate</th>\n",
       "    </tr>\n",
       "  </thead>\n",
       "  <tbody>\n",
       "    <tr>\n",
       "      <th>0</th>\n",
       "      <td>0</td>\n",
       "      <td>-0.278506</td>\n",
       "      <td>-0.608056</td>\n",
       "      <td>0.381929</td>\n",
       "      <td>-0.687037</td>\n",
       "      <td>0.287899</td>\n",
       "      <td>0.641869</td>\n",
       "      <td>0.856223</td>\n",
       "      <td>0.265949</td>\n",
       "      <td>0.949479</td>\n",
       "      <td>...</td>\n",
       "      <td>0.867341</td>\n",
       "      <td>-0.472787</td>\n",
       "      <td>0.686832</td>\n",
       "      <td>-0.301701</td>\n",
       "      <td>-0.708292</td>\n",
       "      <td>-0.400607</td>\n",
       "      <td>-0.387433</td>\n",
       "      <td>0.069084</td>\n",
       "      <td>-0.244378</td>\n",
       "      <td>0.822110</td>\n",
       "    </tr>\n",
       "    <tr>\n",
       "      <th>1</th>\n",
       "      <td>1</td>\n",
       "      <td>-0.725183</td>\n",
       "      <td>-0.439228</td>\n",
       "      <td>0.614659</td>\n",
       "      <td>-0.824585</td>\n",
       "      <td>0.296609</td>\n",
       "      <td>0.184680</td>\n",
       "      <td>0.980808</td>\n",
       "      <td>0.165088</td>\n",
       "      <td>0.776382</td>\n",
       "      <td>...</td>\n",
       "      <td>0.589224</td>\n",
       "      <td>-0.614196</td>\n",
       "      <td>0.540373</td>\n",
       "      <td>-0.460423</td>\n",
       "      <td>-0.986547</td>\n",
       "      <td>-0.250553</td>\n",
       "      <td>-0.587048</td>\n",
       "      <td>0.106374</td>\n",
       "      <td>-0.494047</td>\n",
       "      <td>0.593477</td>\n",
       "    </tr>\n",
       "    <tr>\n",
       "      <th>2</th>\n",
       "      <td>2</td>\n",
       "      <td>-0.144256</td>\n",
       "      <td>-0.782367</td>\n",
       "      <td>0.859108</td>\n",
       "      <td>-0.745441</td>\n",
       "      <td>0.470581</td>\n",
       "      <td>0.705472</td>\n",
       "      <td>0.880046</td>\n",
       "      <td>0.191723</td>\n",
       "      <td>0.862666</td>\n",
       "      <td>...</td>\n",
       "      <td>0.773177</td>\n",
       "      <td>-0.624854</td>\n",
       "      <td>0.646750</td>\n",
       "      <td>-0.647143</td>\n",
       "      <td>-0.710754</td>\n",
       "      <td>-0.145597</td>\n",
       "      <td>-0.698444</td>\n",
       "      <td>-0.121070</td>\n",
       "      <td>-0.880057</td>\n",
       "      <td>0.712445</td>\n",
       "    </tr>\n",
       "    <tr>\n",
       "      <th>3</th>\n",
       "      <td>3</td>\n",
       "      <td>-0.783966</td>\n",
       "      <td>-0.370899</td>\n",
       "      <td>0.694748</td>\n",
       "      <td>-0.872861</td>\n",
       "      <td>0.689874</td>\n",
       "      <td>0.533518</td>\n",
       "      <td>0.693302</td>\n",
       "      <td>0.281512</td>\n",
       "      <td>0.832278</td>\n",
       "      <td>...</td>\n",
       "      <td>0.692795</td>\n",
       "      <td>-0.764119</td>\n",
       "      <td>0.506162</td>\n",
       "      <td>-0.998656</td>\n",
       "      <td>-0.794494</td>\n",
       "      <td>-0.237244</td>\n",
       "      <td>-0.495333</td>\n",
       "      <td>0.151029</td>\n",
       "      <td>-0.353041</td>\n",
       "      <td>0.760576</td>\n",
       "    </tr>\n",
       "    <tr>\n",
       "      <th>4</th>\n",
       "      <td>4</td>\n",
       "      <td>-0.527427</td>\n",
       "      <td>-0.648907</td>\n",
       "      <td>0.688038</td>\n",
       "      <td>-0.948890</td>\n",
       "      <td>0.514073</td>\n",
       "      <td>0.353862</td>\n",
       "      <td>0.759910</td>\n",
       "      <td>0.220622</td>\n",
       "      <td>1.000000</td>\n",
       "      <td>...</td>\n",
       "      <td>0.799979</td>\n",
       "      <td>-0.460071</td>\n",
       "      <td>0.507069</td>\n",
       "      <td>-0.775662</td>\n",
       "      <td>-0.818405</td>\n",
       "      <td>-0.346401</td>\n",
       "      <td>-0.519508</td>\n",
       "      <td>0.200003</td>\n",
       "      <td>-0.573488</td>\n",
       "      <td>0.713788</td>\n",
       "    </tr>\n",
       "  </tbody>\n",
       "</table>\n",
       "<p>5 rows × 65 columns</p>\n",
       "</div>"
      ],
      "text/plain": [
       "   Unnamed: 0  slaughter  misreport       hug      kill     relax   cherish  \\\n",
       "0           0  -0.278506  -0.608056  0.381929 -0.687037  0.287899  0.641869   \n",
       "1           1  -0.725183  -0.439228  0.614659 -0.824585  0.296609  0.184680   \n",
       "2           2  -0.144256  -0.782367  0.859108 -0.745441  0.470581  0.705472   \n",
       "3           3  -0.783966  -0.370899  0.694748 -0.872861  0.689874  0.533518   \n",
       "4           4  -0.527427  -0.648907  0.688038 -0.948890  0.514073  0.353862   \n",
       "\n",
       "      thank      care   welcome  ...     cheer   torture    admire      rape  \\\n",
       "0  0.856223  0.265949  0.949479  ...  0.867341 -0.472787  0.686832 -0.301701   \n",
       "1  0.980808  0.165088  0.776382  ...  0.589224 -0.614196  0.540373 -0.460423   \n",
       "2  0.880046  0.191723  0.862666  ...  0.773177 -0.624854  0.646750 -0.647143   \n",
       "3  0.693302  0.281512  0.832278  ...  0.692795 -0.764119  0.506162 -0.998656   \n",
       "4  0.759910  0.220622  1.000000  ...  0.799979 -0.460071  0.507069 -0.775662   \n",
       "\n",
       "       harm     blame     steal    pursue  misinform  celebrate  \n",
       "0 -0.708292 -0.400607 -0.387433  0.069084  -0.244378   0.822110  \n",
       "1 -0.986547 -0.250553 -0.587048  0.106374  -0.494047   0.593477  \n",
       "2 -0.710754 -0.145597 -0.698444 -0.121070  -0.880057   0.712445  \n",
       "3 -0.794494 -0.237244 -0.495333  0.151029  -0.353041   0.760576  \n",
       "4 -0.818405 -0.346401 -0.519508  0.200003  -0.573488   0.713788  \n",
       "\n",
       "[5 rows x 65 columns]"
      ]
     },
     "execution_count": 18,
     "metadata": {},
     "output_type": "execute_result"
    }
   ],
   "source": [
    "pd_1_only_mono"
   ]
  },
  {
   "cell_type": "code",
   "execution_count": 19,
   "metadata": {},
   "outputs": [
    {
     "data": {
      "text/html": [
       "<div>\n",
       "<style scoped>\n",
       "    .dataframe tbody tr th:only-of-type {\n",
       "        vertical-align: middle;\n",
       "    }\n",
       "\n",
       "    .dataframe tbody tr th {\n",
       "        vertical-align: top;\n",
       "    }\n",
       "\n",
       "    .dataframe thead th {\n",
       "        text-align: right;\n",
       "    }\n",
       "</style>\n",
       "<table border=\"1\" class=\"dataframe\">\n",
       "  <thead>\n",
       "    <tr style=\"text-align: right;\">\n",
       "      <th></th>\n",
       "      <th>Unnamed: 0</th>\n",
       "      <th>eat</th>\n",
       "      <th>steal</th>\n",
       "      <th>volunteer</th>\n",
       "      <th>waste</th>\n",
       "      <th>torture</th>\n",
       "      <th>compliment</th>\n",
       "      <th>be</th>\n",
       "      <th>pursue</th>\n",
       "      <th>divorce</th>\n",
       "      <th>...</th>\n",
       "      <th>illegalize</th>\n",
       "      <th>slander</th>\n",
       "      <th>misadvise</th>\n",
       "      <th>thank</th>\n",
       "      <th>slaughter</th>\n",
       "      <th>appreciate</th>\n",
       "      <th>charm</th>\n",
       "      <th>kill</th>\n",
       "      <th>celebrate</th>\n",
       "      <th>comfort</th>\n",
       "    </tr>\n",
       "  </thead>\n",
       "  <tbody>\n",
       "    <tr>\n",
       "      <th>0</th>\n",
       "      <td>0</td>\n",
       "      <td>-0.195039</td>\n",
       "      <td>0.410575</td>\n",
       "      <td>-0.118500</td>\n",
       "      <td>0.378940</td>\n",
       "      <td>0.646122</td>\n",
       "      <td>-0.096044</td>\n",
       "      <td>-0.336339</td>\n",
       "      <td>-0.248594</td>\n",
       "      <td>0.094465</td>\n",
       "      <td>...</td>\n",
       "      <td>0.072150</td>\n",
       "      <td>0.356502</td>\n",
       "      <td>0.388449</td>\n",
       "      <td>-0.854066</td>\n",
       "      <td>0.522913</td>\n",
       "      <td>-0.388260</td>\n",
       "      <td>-0.240509</td>\n",
       "      <td>0.899703</td>\n",
       "      <td>-0.627975</td>\n",
       "      <td>-0.522626</td>\n",
       "    </tr>\n",
       "    <tr>\n",
       "      <th>1</th>\n",
       "      <td>1</td>\n",
       "      <td>-0.301294</td>\n",
       "      <td>-0.485913</td>\n",
       "      <td>-0.461512</td>\n",
       "      <td>0.277421</td>\n",
       "      <td>0.735421</td>\n",
       "      <td>-0.622302</td>\n",
       "      <td>-0.473594</td>\n",
       "      <td>-0.256808</td>\n",
       "      <td>0.026349</td>\n",
       "      <td>...</td>\n",
       "      <td>0.838024</td>\n",
       "      <td>0.397291</td>\n",
       "      <td>0.733464</td>\n",
       "      <td>-0.889756</td>\n",
       "      <td>0.769474</td>\n",
       "      <td>-0.623390</td>\n",
       "      <td>-0.483991</td>\n",
       "      <td>0.984354</td>\n",
       "      <td>-0.719957</td>\n",
       "      <td>-0.506919</td>\n",
       "    </tr>\n",
       "    <tr>\n",
       "      <th>2</th>\n",
       "      <td>2</td>\n",
       "      <td>-0.374170</td>\n",
       "      <td>0.332619</td>\n",
       "      <td>-0.147727</td>\n",
       "      <td>0.425884</td>\n",
       "      <td>0.345716</td>\n",
       "      <td>-0.221115</td>\n",
       "      <td>-0.260799</td>\n",
       "      <td>-0.067984</td>\n",
       "      <td>-0.014421</td>\n",
       "      <td>...</td>\n",
       "      <td>0.872547</td>\n",
       "      <td>0.526669</td>\n",
       "      <td>0.782066</td>\n",
       "      <td>-0.776487</td>\n",
       "      <td>0.256289</td>\n",
       "      <td>-0.628566</td>\n",
       "      <td>-0.397683</td>\n",
       "      <td>0.569616</td>\n",
       "      <td>-0.838168</td>\n",
       "      <td>-0.299627</td>\n",
       "    </tr>\n",
       "    <tr>\n",
       "      <th>3</th>\n",
       "      <td>3</td>\n",
       "      <td>-0.265008</td>\n",
       "      <td>0.373613</td>\n",
       "      <td>-0.260053</td>\n",
       "      <td>0.390904</td>\n",
       "      <td>0.633528</td>\n",
       "      <td>-0.747958</td>\n",
       "      <td>-0.357054</td>\n",
       "      <td>-0.107252</td>\n",
       "      <td>-0.018096</td>\n",
       "      <td>...</td>\n",
       "      <td>0.910761</td>\n",
       "      <td>0.856489</td>\n",
       "      <td>0.795073</td>\n",
       "      <td>-0.950267</td>\n",
       "      <td>0.613783</td>\n",
       "      <td>-0.934184</td>\n",
       "      <td>-0.528206</td>\n",
       "      <td>0.668195</td>\n",
       "      <td>-0.857281</td>\n",
       "      <td>-0.451349</td>\n",
       "    </tr>\n",
       "    <tr>\n",
       "      <th>4</th>\n",
       "      <td>4</td>\n",
       "      <td>-0.241716</td>\n",
       "      <td>0.658042</td>\n",
       "      <td>-0.328894</td>\n",
       "      <td>0.416605</td>\n",
       "      <td>0.443067</td>\n",
       "      <td>-0.475104</td>\n",
       "      <td>-0.285041</td>\n",
       "      <td>-0.142377</td>\n",
       "      <td>-0.041291</td>\n",
       "      <td>...</td>\n",
       "      <td>1.000000</td>\n",
       "      <td>0.702032</td>\n",
       "      <td>0.675565</td>\n",
       "      <td>-0.732594</td>\n",
       "      <td>0.530840</td>\n",
       "      <td>-0.587086</td>\n",
       "      <td>-0.314831</td>\n",
       "      <td>0.777402</td>\n",
       "      <td>-0.735098</td>\n",
       "      <td>-0.581930</td>\n",
       "    </tr>\n",
       "  </tbody>\n",
       "</table>\n",
       "<p>5 rows × 65 columns</p>\n",
       "</div>"
      ],
      "text/plain": [
       "   Unnamed: 0       eat     steal  volunteer     waste   torture  compliment  \\\n",
       "0           0 -0.195039  0.410575  -0.118500  0.378940  0.646122   -0.096044   \n",
       "1           1 -0.301294 -0.485913  -0.461512  0.277421  0.735421   -0.622302   \n",
       "2           2 -0.374170  0.332619  -0.147727  0.425884  0.345716   -0.221115   \n",
       "3           3 -0.265008  0.373613  -0.260053  0.390904  0.633528   -0.747958   \n",
       "4           4 -0.241716  0.658042  -0.328894  0.416605  0.443067   -0.475104   \n",
       "\n",
       "         be    pursue   divorce  ...  illegalize   slander  misadvise  \\\n",
       "0 -0.336339 -0.248594  0.094465  ...    0.072150  0.356502   0.388449   \n",
       "1 -0.473594 -0.256808  0.026349  ...    0.838024  0.397291   0.733464   \n",
       "2 -0.260799 -0.067984 -0.014421  ...    0.872547  0.526669   0.782066   \n",
       "3 -0.357054 -0.107252 -0.018096  ...    0.910761  0.856489   0.795073   \n",
       "4 -0.285041 -0.142377 -0.041291  ...    1.000000  0.702032   0.675565   \n",
       "\n",
       "      thank  slaughter  appreciate     charm      kill  celebrate   comfort  \n",
       "0 -0.854066   0.522913   -0.388260 -0.240509  0.899703  -0.627975 -0.522626  \n",
       "1 -0.889756   0.769474   -0.623390 -0.483991  0.984354  -0.719957 -0.506919  \n",
       "2 -0.776487   0.256289   -0.628566 -0.397683  0.569616  -0.838168 -0.299627  \n",
       "3 -0.950267   0.613783   -0.934184 -0.528206  0.668195  -0.857281 -0.451349  \n",
       "4 -0.732594   0.530840   -0.587086 -0.314831  0.777402  -0.735098 -0.581930  \n",
       "\n",
       "[5 rows x 65 columns]"
      ]
     },
     "execution_count": 19,
     "metadata": {},
     "output_type": "execute_result"
    }
   ],
   "source": [
    "pd_1_only_multi"
   ]
  },
  {
   "cell_type": "code",
   "execution_count": 20,
   "metadata": {},
   "outputs": [
    {
     "data": {
      "text/plain": [
       "(0.0, 0.1)"
      ]
     },
     "execution_count": 20,
     "metadata": {},
     "output_type": "execute_result"
    },
    {
     "data": {
      "image/png": "[encoded data removed]",
      "text/plain": [
       "<Figure size 432x288 with 1 Axes>"
      ]
     },
     "metadata": {
      "needs_background": "light"
     },
     "output_type": "display_data"
    }
   ],
   "source": [
    "plt.hist([x for x in pd_1_only_mono.var()], bins=[i/200 for i in range(20)])\n",
    "plt.xlim(0,.1)"
   ]
  },
  {
   "cell_type": "code",
   "execution_count": 21,
   "metadata": {},
   "outputs": [],
   "source": [
    "import numpy as np"
   ]
  },
  {
   "cell_type": "code",
   "execution_count": 22,
   "metadata": {},
   "outputs": [
    {
     "data": {
      "text/plain": [
       "(0.0, 0.1)"
      ]
     },
     "execution_count": 22,
     "metadata": {},
     "output_type": "execute_result"
    },
    {
     "data": {
      "image/png": "[encoded data removed]",
      "text/plain": [
       "<Figure size 432x288 with 1 Axes>"
      ]
     },
     "metadata": {
      "needs_background": "light"
     },
     "output_type": "display_data"
    }
   ],
   "source": [
    "plt.hist([x for x in pd_1_only_multi.var() ], bins=[i/200 for i in range(20)])\n",
    "plt.xlim(0,.1)"
   ]
  },
  {
   "cell_type": "code",
   "execution_count": 23,
   "metadata": {},
   "outputs": [
    {
     "data": {
      "text/plain": [
       "0.015169054536451424"
      ]
     },
     "execution_count": 23,
     "metadata": {},
     "output_type": "execute_result"
    }
   ],
   "source": [
    "np.median([x for x in pd_1_only_mono.var()[1:]])"
   ]
  },
  {
   "cell_type": "code",
   "execution_count": 24,
   "metadata": {},
   "outputs": [
    {
     "data": {
      "text/plain": [
       "0.014549198543640441"
      ]
     },
     "execution_count": 24,
     "metadata": {},
     "output_type": "execute_result"
    }
   ],
   "source": [
    "np.median([x for x in pd_1_only_multi.var()[1:]])"
   ]
  },
  {
   "cell_type": "code",
   "execution_count": 25,
   "metadata": {},
   "outputs": [
    {
     "data": {
      "text/plain": [
       "0.02250613234451169"
      ]
     },
     "execution_count": 25,
     "metadata": {},
     "output_type": "execute_result"
    }
   ],
   "source": [
    "np.mean([x for x in pd_1_only_mono.var()[1:]])"
   ]
  },
  {
   "cell_type": "code",
   "execution_count": 26,
   "metadata": {},
   "outputs": [
    {
     "data": {
      "text/plain": [
       "0.030089004332162318"
      ]
     },
     "execution_count": 26,
     "metadata": {},
     "output_type": "execute_result"
    }
   ],
   "source": [
    "np.mean([x for x in pd_1_only_multi.var()[1:]])"
   ]
  },
  {
   "cell_type": "code",
   "execution_count": 27,
   "metadata": {},
   "outputs": [],
   "source": [
    "pd_1_only_multi = -pd_1_only_multi"
   ]
  },
  {
   "cell_type": "code",
   "execution_count": 28,
   "metadata": {},
   "outputs": [
    {
     "data": {
      "image/png": "[encoded data removed]",
      "text/plain": [
       "<Figure size 432x288 with 1 Axes>"
      ]
     },
     "metadata": {
      "needs_background": "light"
     },
     "output_type": "display_data"
    }
   ],
   "source": [
    "import matplotlib as mpl\n",
    "\n",
    "colors = ['firebrick','darkblue','green','black','saddlebrown']\n",
    "colors = [\"#d73027\", \"#fc8d59\", \"#f5bd25\", \"#91bfdb\", \"#4575b4\"]\n",
    "fig, ax = plt.subplots() #5,12))\n",
    "\n",
    "kwords = ['kill','pollute', 'blame', 'care',  'enjoy','thank']\n",
    "kwords = ['kill','pollute', 'enjoy','thank']\n",
    "kwords = ['kill','pollute',  'divorce','drink',  'love', 'thank']\n",
    "#for i, k in enumerate(kwords):\n",
    "\n",
    "    #plt.title(k)\n",
    "    #max_c = max([(pd_1_only[k]-pd_1_only[k].mean()).abs().max(),(pd_2_only[k]-pd_2_only[k].mean()).abs().max()])\n",
    "    #c = plt.Circle((pd_1_only[k].mean(),pd_2_only[k].mean()),max_c+.027,color='gray',fill=False)\n",
    "    #ax.add_patch(c)\n",
    "    #plt.plot([pd_1_only_mono[k].min(),pd_1_only_mono[k].max()],[pd_2_only[k].mean(),pd_2_only[k].mean()], c='gray')\n",
    "\n",
    "    #plt.plot([pd_1_only[k].mean()],[pd_2_only[k].mean()],c='gray',marker='x')\n",
    "max_y = 0\n",
    "for i, k in enumerate(kwords):\n",
    "\n",
    "    handles = []\n",
    "    handles2 = []\n",
    "    for j in range(5):    \n",
    "        t = mpl.markers.MarkerStyle(marker='^')\n",
    "        t._transform = t.get_transform().rotate_deg(j*35)\n",
    "\n",
    "        h = plt.scatter([i*5], [pd_1_only_mono[k][j]], c=colors[j], \n",
    "                marker= t)\n",
    "        handles.append(h)\n",
    "\n",
    "        t = mpl.markers.MarkerStyle(marker='d')\n",
    "        t._transform = t.get_transform().rotate_deg(j*35)\n",
    "        h = plt.scatter([i*5+1], [pd_1_only_multi[k][j]], c=colors[j], \n",
    "                marker= t)\n",
    "        handles2.append(h)\n",
    "\n",
    "\n",
    "    #plt.plot([(pd_1_only_mono[k]).min(),(pd_1_only_mono[k]).max()],[cur_y,cur_y],c='gray')\n",
    "\n",
    "    #ax.text(pd_1_only_mono[k].min(), cur_y, k, fontsize=13)\n",
    "\n",
    "\"\"\"\n",
    "for i, k in enumerate(kwords):\n",
    "\n",
    "    handles = []\n",
    "    for j in range(5):    \n",
    "        t = mpl.markers.MarkerStyle(marker='<')\n",
    "        t._transform = t.get_transform().rotate_deg(j*35)\n",
    "\n",
    "        h = plt.scatter([pd_1_only_multi[k][j]], [pd_2_only_multi[k][j]], c=colors[j], \n",
    "                marker= t)\n",
    "        handles.append(h)\n",
    "\n",
    "    cur_y = pd_2_only_multi[k].mean()+(pd_2_only_multi[k]-pd_2_only_multi[k].mean()).abs().max()+2.5\n",
    "    #max_y = max(cur_y, max_y)\n",
    "    #ax.text(pd_1_only_multi[k].min(), cur_y, k, fontsize=13)\n",
    "\"\"\"\n",
    "#plt.plot([-1,1],[0,0],'--', c='gray')\n",
    "#plt.scatter([0],[max_y+1],c='w')\n",
    "fontproperties = {'size': 13}\n",
    "\n",
    "ax.set_ylabel('Moral score', fontproperties)\n",
    "#ax.spines['left'].set_color('none')\n",
    "\n",
    "\"\"\"\n",
    "ax.spines['left'].set_position('center')\n",
    "ax.spines['bottom'].set_position('center')\n",
    "\n",
    "ax.spines['right'].set_color('none')\n",
    "ax.spines['top'].set_color('none')\n",
    "\n",
    "ax.xaxis.set_ticks_position('bottom')\n",
    "ax.yaxis.set_ticks_position('left')\n",
    "\"\"\"\n",
    "#plt.ylim(-.85,.85)\n",
    "#plt.xlim(-1,1)\n",
    "#ax.set_xticklabels(ax.get_xticks(), fontproperties)\n",
    "#ax.set_yticklabels(ax.get_yticks(), fontproperties)\n",
    "plt.tight_layout()\n",
    "plt.axis('tight')\n",
    "#plt.title('close')\n",
    "legend1 = plt.legend(handles,['ar','cs','de','en','zh'],title=\"mono\",prop={'size':10},loc='upper left') #,prop=fontproperties)\n",
    "plt.legend(handles2,['ar','cs','de','en','zh'],title=\"multi\",prop={'size':10},loc='lower right') #,prop=fontproperties)\n",
    "plt.gca().add_artist(legend1)\n",
    "plt.xticks([i*5+.5 for i in range(len(kwords))], labels=kwords)\n",
    "ax.xaxis.set_tick_params(labelsize=13)\n",
    "\n",
    "#ax.set_xticklabels(ax.get_xticks(), fontproperties)\n",
    "plt.savefig('mixed_moral_scores.pdf',bbox_inches='tight')"
   ]
  },
  {
   "cell_type": "code",
   "execution_count": 29,
   "metadata": {},
   "outputs": [
    {
     "data": {
      "image/png": "[encoded data removed]",
      "text/plain": [
       "<Figure size 432x288 with 1 Axes>"
      ]
     },
     "metadata": {
      "needs_background": "light"
     },
     "output_type": "display_data"
    }
   ],
   "source": [
    "import matplotlib as mpl\n",
    "\n",
    "colors = ['firebrick','darkblue','green','black','saddlebrown']\n",
    "colors = [\"#d73027\", \"#fc8d59\", \"#f5bd25\", \"#91bfdb\", \"#4575b4\"]\n",
    "fig, ax = plt.subplots() #5,12))\n",
    "\n",
    "kwords = ['kill','pollute', 'blame', 'care',  'enjoy','thank']\n",
    "kwords = ['kill','pollute', 'enjoy','thank']\n",
    "kwords = ['kill','pollute',  'divorce','drink',  'love', 'thank']\n",
    "#for i, k in enumerate(kwords):\n",
    "\n",
    "    #plt.title(k)\n",
    "    #max_c = max([(pd_1_only[k]-pd_1_only[k].mean()).abs().max(),(pd_2_only[k]-pd_2_only[k].mean()).abs().max()])\n",
    "    #c = plt.Circle((pd_1_only[k].mean(),pd_2_only[k].mean()),max_c+.027,color='gray',fill=False)\n",
    "    #ax.add_patch(c)\n",
    "    #plt.plot([pd_1_only_mono[k].min(),pd_1_only_mono[k].max()],[pd_2_only[k].mean(),pd_2_only[k].mean()], c='gray')\n",
    "\n",
    "    #plt.plot([pd_1_only[k].mean()],[pd_2_only[k].mean()],c='gray',marker='x')\n",
    "max_y = 0\n",
    "for i, k in enumerate(kwords):\n",
    "\n",
    "    handles = []\n",
    "    handles2 = []\n",
    "    for j in range(5):    \n",
    "        t = mpl.markers.MarkerStyle(marker='^')\n",
    "        t._transform = t.get_transform().rotate_deg(j*35)\n",
    "\n",
    "        h = plt.scatter([i*5], [pd_1_only_mono[k][j]], c=colors[j], \n",
    "                marker= t)\n",
    "        handles.append(h)\n",
    "\n",
    "        t = mpl.markers.MarkerStyle(marker='d')\n",
    "        t._transform = t.get_transform().rotate_deg(j*35)\n",
    "        h = plt.scatter([i*5+1], [pd_1_only_multi[k][j]], c=colors[j], \n",
    "                marker= t)\n",
    "        handles2.append(h)\n",
    "\n",
    "\n",
    "    #plt.plot([(pd_1_only_mono[k]).min(),(pd_1_only_mono[k]).max()],[cur_y,cur_y],c='gray')\n",
    "\n",
    "    #ax.text(pd_1_only_mono[k].min(), cur_y, k, fontsize=13)\n",
    "\n",
    "\"\"\"\n",
    "for i, k in enumerate(kwords):\n",
    "\n",
    "    handles = []\n",
    "    for j in range(5):    \n",
    "        t = mpl.markers.MarkerStyle(marker='<')\n",
    "        t._transform = t.get_transform().rotate_deg(j*35)\n",
    "\n",
    "        h = plt.scatter([pd_1_only_multi[k][j]], [pd_2_only_multi[k][j]], c=colors[j], \n",
    "                marker= t)\n",
    "        handles.append(h)\n",
    "\n",
    "    cur_y = pd_2_only_multi[k].mean()+(pd_2_only_multi[k]-pd_2_only_multi[k].mean()).abs().max()+2.5\n",
    "    #max_y = max(cur_y, max_y)\n",
    "    #ax.text(pd_1_only_multi[k].min(), cur_y, k, fontsize=13)\n",
    "\"\"\"\n",
    "#plt.plot([-1,1],[0,0],'--', c='gray')\n",
    "#plt.scatter([0],[max_y+1],c='w')\n",
    "fontproperties = {'size': 13}\n",
    "\n",
    "ax.set_ylabel('Moral score', fontproperties)\n",
    "#ax.spines['left'].set_color('none')\n",
    "\n",
    "\"\"\"\n",
    "ax.spines['left'].set_position('center')\n",
    "ax.spines['bottom'].set_position('center')\n",
    "\n",
    "ax.spines['right'].set_color('none')\n",
    "ax.spines['top'].set_color('none')\n",
    "\n",
    "ax.xaxis.set_ticks_position('bottom')\n",
    "ax.yaxis.set_ticks_position('left')\n",
    "\"\"\"\n",
    "#plt.ylim(-.85,.85)\n",
    "#plt.xlim(-1,1)\n",
    "#ax.set_xticklabels(ax.get_xticks(), fontproperties)\n",
    "#ax.set_yticklabels(ax.get_yticks(), fontproperties)\n",
    "plt.tight_layout()\n",
    "plt.axis('tight')\n",
    "#plt.title('close')\n",
    "legend1 = plt.legend(handles,['','','','',''],title=\"mono\",prop={'size':10},loc='upper left') #,prop=fontproperties)\n",
    "plt.legend(handles2,['ar','cs','de','en','zh'],title=\"multi\",prop={'size':10},loc=0,bbox_to_anchor=[.275,1.]) #,prop=fontproperties)\n",
    "plt.gca().add_artist(legend1)\n",
    "plt.xticks([i*5+.5 for i in range(len(kwords))], labels=kwords)\n",
    "ax.xaxis.set_tick_params(labelsize=13)\n",
    "\n",
    "#ax.set_xticklabels(ax.get_xticks(), fontproperties)\n",
    "plt.savefig('mixed_moral_scores3.pdf',bbox_inches='tight')"
   ]
  },
  {
   "cell_type": "code",
   "execution_count": 30,
   "metadata": {},
   "outputs": [
    {
     "data": {
      "image/png": "[encoded data removed]",
      "text/plain": [
       "<Figure size 432x288 with 1 Axes>"
      ]
     },
     "metadata": {
      "needs_background": "light"
     },
     "output_type": "display_data"
    }
   ],
   "source": [
    "import matplotlib as mpl\n",
    "\n",
    "colors = ['firebrick','darkblue','green','black','saddlebrown']\n",
    "colors = [\"#d73027\", \"#fc8d59\", \"#f5bd25\", \"#91bfdb\", \"#4575b4\"]\n",
    "fig, ax = plt.subplots() #5,12))\n",
    "\n",
    "kwords = ['kill','pollute', 'blame', 'care',  'enjoy','thank']\n",
    "kwords = ['kill','pollute', 'enjoy','thank']\n",
    "kwords = ['kill','pollute',  'divorce','drink',  'love', 'thank']\n",
    "#for i, k in enumerate(kwords):\n",
    "from matplotlib.legend_handler import HandlerTuple\n",
    "\n",
    "    #plt.title(k)\n",
    "    #max_c = max([(pd_1_only[k]-pd_1_only[k].mean()).abs().max(),(pd_2_only[k]-pd_2_only[k].mean()).abs().max()])\n",
    "    #c = plt.Circle((pd_1_only[k].mean(),pd_2_only[k].mean()),max_c+.027,color='gray',fill=False)\n",
    "    #ax.add_patch(c)\n",
    "    #plt.plot([pd_1_only_mono[k].min(),pd_1_only_mono[k].max()],[pd_2_only[k].mean(),pd_2_only[k].mean()], c='gray')\n",
    "\n",
    "    #plt.plot([pd_1_only[k].mean()],[pd_2_only[k].mean()],c='gray',marker='x')\n",
    "max_y = 0\n",
    "objects1 = []\n",
    "objects2 = []\n",
    "t = mpl.markers.MarkerStyle(marker='<')\n",
    "for i in range(len(kwords)):\n",
    "    t._transform = t.get_transform().rotate_deg(i*35)\n",
    "    objects1.append(t)\n",
    "t = mpl.markers.MarkerStyle(marker='d')\n",
    "for i in range(len(kwords)):\n",
    "    t._transform = t.get_transform().rotate_deg(i*35)\n",
    "    objects2.append(t)\n",
    "\n",
    "for i, k in enumerate(kwords):\n",
    "\n",
    "    handles = []\n",
    "    handles2 = []\n",
    "    for j in range(5):    \n",
    "        t = mpl.markers.MarkerStyle(marker='<')\n",
    "        t._transform = t.get_transform().rotate_deg(j*35)\n",
    "\n",
    "\n",
    "        plt.plot([i*5, i*5], [pd_1_only_mono[k].min(), pd_1_only_mono[k].max()], 'black', linewidth=0.2)\n",
    "        h3 = plt.scatter([i*5], [pd_1_only_mono[k][j]], c='white')\n",
    "        h = plt.scatter([i*5], [pd_1_only_mono[k][j]], c=colors[j], \n",
    "                marker= t)\n",
    "\n",
    "        t = mpl.markers.MarkerStyle(marker='d')\n",
    "        t._transform = t.get_transform().rotate_deg(j*35)\n",
    "\n",
    "        plt.plot([i*5+1.03, i*5+1.03], [pd_1_only_multi[k].min(), pd_1_only_multi[k].max()], 'black', linewidth=0.2)\n",
    "        t2 = mpl.markers.MarkerStyle(marker='d')\n",
    "        t2._transform = t2.get_transform().rotate_deg(j*35)\n",
    "        h2 = plt.scatter([i*5+1], [pd_1_only_multi[k][j]], c=colors[j], \n",
    "                marker= t)\n",
    "        handles2.append((h,h3, h2))\n",
    "        handles.append(h)\n",
    "\n",
    "\n",
    "    #plt.plot([(pd_1_only_mono[k]).min(),(pd_1_only_mono[k]).max()],[cur_y,cur_y],c='gray')\n",
    "\n",
    "    #ax.text(pd_1_only_mono[k].min(), cur_y, k, fontsize=13)\n",
    "\n",
    "\"\"\"\n",
    "for i, k in enumerate(kwords):\n",
    "\n",
    "    handles = []\n",
    "    for j in range(5):    \n",
    "        t = mpl.markers.MarkerStyle(marker='<')\n",
    "        t._transform = t.get_transform().rotate_deg(j*35)\n",
    "\n",
    "        h = plt.scatter([pd_1_only_multi[k][j]], [pd_2_only_multi[k][j]], c=colors[j], \n",
    "                marker= t)\n",
    "        handles.append(h)\n",
    "\n",
    "    cur_y = pd_2_only_multi[k].mean()+(pd_2_only_multi[k]-pd_2_only_multi[k].mean()).abs().max()+2.5\n",
    "    #max_y = max(cur_y, max_y)\n",
    "    #ax.text(pd_1_only_multi[k].min(), cur_y, k, fontsize=13)\n",
    "\"\"\"\n",
    "#plt.plot([-1,1],[0,0],'--', c='gray')\n",
    "#plt.scatter([0],[max_y+1],c='w')\n",
    "fontproperties = {'size': 13}\n",
    "\n",
    "ax.set_ylabel('Moral score', fontproperties)\n",
    "#ax.spines['left'].set_color('none')\n",
    "\n",
    "\"\"\"\n",
    "ax.spines['left'].set_position('center')\n",
    "ax.spines['bottom'].set_position('center')\n",
    "\n",
    "ax.spines['right'].set_color('none')\n",
    "ax.spines['top'].set_color('none')\n",
    "\n",
    "ax.xaxis.set_ticks_position('bottom')\n",
    "ax.yaxis.set_ticks_position('left')\n",
    "\"\"\"\n",
    "#plt.ylim(-.85,.85)\n",
    "#plt.xlim(-1,1)\n",
    "#ax.set_xticklabels(ax.get_xticks(), fontproperties)\n",
    "#ax.set_yticklabels(ax.get_yticks(), fontproperties)\n",
    "plt.tight_layout()\n",
    "plt.axis('tight')\n",
    "#plt.title('close')\n",
    "plt.legend(handles2,['ar','cs','de','en','zh'],prop={'size':10},loc='upper left',\n",
    "               handler_map={tuple: HandlerTuple(ndivide=None)}) #,prop=fontproperties)\n",
    "#plt.gca().add_artist(legend1)\n",
    "plt.xticks([i*5+.5 for i in range(len(kwords))], labels=kwords)\n",
    "ax.xaxis.set_tick_params(labelsize=13)\n",
    "\n",
    "#ax.set_xticklabels(ax.get_xticks(), fontproperties)\n",
    "plt.savefig('mixed_moral_scores2.pdf',bbox_inches='tight')"
   ]
  },
  {
   "cell_type": "code",
   "execution_count": null,
   "metadata": {},
   "outputs": [],
   "source": []
  },
  {
   "cell_type": "code",
   "execution_count": 31,
   "metadata": {},
   "outputs": [
    {
     "data": {
      "image/png": "[encoded data removed]",
      "text/plain": [
       "<Figure size 432x288 with 1 Axes>"
      ]
     },
     "metadata": {
      "needs_background": "light"
     },
     "output_type": "display_data"
    }
   ],
   "source": [
    "import matplotlib as mpl\n",
    "\n",
    "colors = ['firebrick','darkblue','green','black','saddlebrown']\n",
    "colors = [\"#d73027\", \"#fc8d59\", \"#f5bd25\", \"#91bfdb\", \"#4575b4\"]\n",
    "fig, ax = plt.subplots() #5,12))\n",
    "\n",
    "kwords = ['steal', 'clap', 'misdirect', 'attack', 'poison', 'illegalize']\n",
    "\n",
    "#for i, k in enumerate(kwords):\n",
    "\n",
    "    #plt.title(k)\n",
    "    #max_c = max([(pd_1_only[k]-pd_1_only[k].mean()).abs().max(),(pd_2_only[k]-pd_2_only[k].mean()).abs().max()])\n",
    "    #c = plt.Circle((pd_1_only[k].mean(),pd_2_only[k].mean()),max_c+.027,color='gray',fill=False)\n",
    "    #ax.add_patch(c)\n",
    "    #plt.plot([pd_1_only_mono[k].min(),pd_1_only_mono[k].max()],[pd_2_only[k].mean(),pd_2_only[k].mean()], c='gray')\n",
    "\n",
    "    #plt.plot([pd_1_only[k].mean()],[pd_2_only[k].mean()],c='gray',marker='x')\n",
    "max_y = 0\n",
    "for i, k in enumerate(kwords):\n",
    "\n",
    "    handles = []\n",
    "    handles2 = []\n",
    "    for j in range(5):    \n",
    "        t = mpl.markers.MarkerStyle(marker='^')\n",
    "        t._transform = t.get_transform().rotate_deg(j*35)\n",
    "\n",
    "        h = plt.scatter([i*5], [pd_1_only_mono[k][j]], c=colors[j], \n",
    "                marker= t)\n",
    "        handles.append(h)\n",
    "\n",
    "        t = mpl.markers.MarkerStyle(marker='d')\n",
    "        t._transform = t.get_transform().rotate_deg(j*35)\n",
    "        h = plt.scatter([i*5+1], [pd_1_only_multi[k][j]], c=colors[j], \n",
    "                marker= t)\n",
    "        handles2.append(h)\n",
    "\n",
    "\n",
    "    #plt.plot([(pd_1_only_mono[k]).min(),(pd_1_only_mono[k]).max()],[cur_y,cur_y],c='gray')\n",
    "\n",
    "    #ax.text(pd_1_only_mono[k].min(), cur_y, k, fontsize=13)\n",
    "\n",
    "\"\"\"\n",
    "for i, k in enumerate(kwords):\n",
    "\n",
    "    handles = []\n",
    "    for j in range(5):    \n",
    "        t = mpl.markers.MarkerStyle(marker='<')\n",
    "        t._transform = t.get_transform().rotate_deg(j*35)\n",
    "\n",
    "        h = plt.scatter([pd_1_only_multi[k][j]], [pd_2_only_multi[k][j]], c=colors[j], \n",
    "                marker= t)\n",
    "        handles.append(h)\n",
    "\n",
    "    cur_y = pd_2_only_multi[k].mean()+(pd_2_only_multi[k]-pd_2_only_multi[k].mean()).abs().max()+2.5\n",
    "    #max_y = max(cur_y, max_y)\n",
    "    #ax.text(pd_1_only_multi[k].min(), cur_y, k, fontsize=13)\n",
    "\"\"\"\n",
    "#plt.plot([-1,1],[0,0],'--', c='gray')\n",
    "#plt.scatter([0],[max_y+1],c='w')\n",
    "fontproperties = {'size': 13}\n",
    "\n",
    "ax.set_ylabel('Moral score', fontproperties)\n",
    "#ax.spines['left'].set_color('none')\n",
    "\n",
    "\"\"\"\n",
    "ax.spines['left'].set_position('center')\n",
    "ax.spines['bottom'].set_position('center')\n",
    "\n",
    "ax.spines['right'].set_color('none')\n",
    "ax.spines['top'].set_color('none')\n",
    "\n",
    "ax.xaxis.set_ticks_position('bottom')\n",
    "ax.yaxis.set_ticks_position('left')\n",
    "\"\"\"\n",
    "#plt.ylim(-.85,.85)\n",
    "#plt.xlim(-1,1)\n",
    "#ax.set_xticklabels(ax.get_xticks(), fontproperties)\n",
    "#ax.set_yticklabels(ax.get_yticks(), fontproperties)\n",
    "plt.tight_layout()\n",
    "plt.axis('tight')\n",
    "#plt.title('close')\n",
    "legend1 = plt.legend(handles,['','','','',''],title=\"mono\",prop={'size':10},loc='upper left') #,prop=fontproperties)\n",
    "plt.legend(handles2,['ar','cs','de','en','zh'],title=\"multi\",prop={'size':10},loc=0,bbox_to_anchor=[.275,1.]) #,prop=fontproperties)\n",
    "plt.gca().add_artist(legend1)\n",
    "plt.xticks([i*5+.5 for i in range(len(kwords))], labels=kwords)\n",
    "ax.xaxis.set_tick_params(labelsize=13)\n",
    "\n",
    "#ax.set_xticklabels(ax.get_xticks(), fontproperties)\n",
    "#plt.savefig('mixed_moral_scores3.pdf',bbox_inches='tight')"
   ]
  }
 ],
 "metadata": {
  "kernelspec": {
   "display_name": "Python 3.8.13 ('patrick3')",
   "language": "python",
   "name": "python3"
  },
  "language_info": {
   "codemirror_mode": {
    "name": "ipython",
    "version": 3
   },
   "file_extension": ".py",
   "mimetype": "text/x-python",
   "name": "python",
   "nbconvert_exporter": "python",
   "pygments_lexer": "ipython3",
   "version": "3.8.13"
  },
  "orig_nbformat": 4,
  "vscode": {
   "interpreter": {
    "hash": "b06907539074e48a43d9edad8107dd524248f1bcadc405192ba104fb826cec57"
   }
  }
 },
 "nbformat": 4,
 "nbformat_minor": 2
}
